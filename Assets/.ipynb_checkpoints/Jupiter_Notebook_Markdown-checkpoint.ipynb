{
 "cells": [
  {
   "cell_type": "markdown",
   "metadata": {},
   "source": [
    "# Instructions\n",
    "* Fork or clone this Repository, open this file in Jupyter Notebooks.<br/><br/>\n",
    "* Double click a cell to see the actual markdown code that made the cell look how it does.<br/><br/>\n",
    "* Re - Run a Cell to view a markdown cell and see how it looks"
   ]
  },
  {
   "cell_type": "markdown",
   "metadata": {},
   "source": [
    "## Different Modes"
   ]
  },
  {
   "cell_type": "markdown",
   "metadata": {},
   "source": [
    "**Blue Highlight around cell** = Command Mode - Can use shortcuts<br/>\n",
    "**Green Highlight round box** = Edit Mode - Edititing a cell"
   ]
  },
  {
   "cell_type": "markdown",
   "metadata": {},
   "source": [
    "## Common Shorcuts"
   ]
  },
  {
   "cell_type": "markdown",
   "metadata": {},
   "source": [
    "* **H** View all shorcuts<br/><br/>\n",
    "* **A** Insert cell above<br/><br/>\n",
    "* **B** Insert cell below<br/><br/>\n",
    "* **Shift + Enter** Run cell, select below<br/><br/>\n",
    "* **ctrl + Enter** Run cell<br/><br/>\n",
    "* **C** Copy cell<br/><br/>\n",
    "* **V** Paste cell<br/><br/>\n",
    "* **DD** D twice, deletes a cell<br/><br/>\n",
    "* **Shift + M** Merge selected cells, or current cell with one below<br/><br/>\n",
    "* **m** Change cell to markdown<br/><br/>\n",
    "* **y** Change cell to code"
   ]
  },
  {
   "cell_type": "markdown",
   "metadata": {},
   "source": [
    "## Formatting Text"
   ]
  },
  {
   "cell_type": "markdown",
   "metadata": {},
   "source": [
    "# Header 1\n",
    "## Header 2\n",
    "### Header 3\n",
    "#### Header 4\n",
    "##### Header 5\n",
    "###### Header 6\n"
   ]
  },
  {
   "cell_type": "markdown",
   "metadata": {},
   "source": [
    "## Emphasis:"
   ]
  },
  {
   "cell_type": "markdown",
   "metadata": {},
   "source": [
    "**Bold**<br/><br/>\n",
    "*Italic*"
   ]
  },
  {
   "cell_type": "markdown",
   "metadata": {},
   "source": [
    "## Mathmatical Equations"
   ]
  },
  {
   "cell_type": "markdown",
   "metadata": {},
   "source": [
    "$ mathmatical Symbols$\n",
    "\\begin{equation*}\n",
    "\\left( \\sum_{k=1}^n a_k b_k \\right)^2 \\leq \\left( \\sum_{k=1}^n a_k^2 \\right) \\left( \\sum_{k=1}^n b_k^2 \\right)\n",
    "\\end{equation*}\n",
    "\n",
    "\\begin{equation*}\n",
    "P(E)   = {n \\choose k} p^k (1-p)^{ n-k}\n",
    "\\end{equation*}"
   ]
  },
  {
   "cell_type": "markdown",
   "metadata": {},
   "source": [
    "## Line Breaks"
   ]
  },
  {
   "cell_type": "markdown",
   "metadata": {},
   "source": [
    "Line breaks = <br/>"
   ]
  },
  {
   "cell_type": "markdown",
   "metadata": {},
   "source": [
    "Colors: Use this code:<br/>\n",
    "<font color='blue'>Blue Text</font><br/>\n",
    "<font color='red'>Blue Text</font><br/>\n",
    "<font color='green'>Blue Text</font><br/>\n",
    "<font color='pink'>Blue Text</font><br/>\n",
    "<font color='yellow'>Blue Text</font><br/>"
   ]
  },
  {
   "cell_type": "markdown",
   "metadata": {},
   "source": [
    "## Indented Quoteing"
   ]
  },
  {
   "cell_type": "markdown",
   "metadata": {},
   "source": [
    "> Use The right arrow key with a spce after it<br/>\n",
    "> Intented Quoting<br/>\n",
    "> Can be used for side notes, quotes<br/>\n",
    "> Whatever you want"
   ]
  },
  {
   "cell_type": "markdown",
   "metadata": {},
   "source": [
    "## Bullet points"
   ]
  },
  {
   "cell_type": "markdown",
   "metadata": {},
   "source": [
    "- Use a Dash with a space after it\n",
    "- To make a list\n",
    "\n",
    " - Or use a space, dash, space to make indented bullet points"
   ]
  },
  {
   "cell_type": "markdown",
   "metadata": {},
   "source": [
    "## Numbered Lists"
   ]
  },
  {
   "cell_type": "markdown",
   "metadata": {},
   "source": [
    "1. Start with a one\n",
    "2. Follwed by a period\n",
    "3. Then a space\n",
    "    1. Tab indent\n",
    "    2. To get subnumbering\n",
    "    3. But use still use numbers\n",
    "        1. It will sort the formatting\n",
    "        2. Out for you"
   ]
  },
  {
   "cell_type": "markdown",
   "metadata": {},
   "source": [
    "## Images"
   ]
  },
  {
   "cell_type": "markdown",
   "metadata": {},
   "source": [
    "Save the image in the dame directory as the notebook, then use the syntax in the cell below (./ meens current Directory, the same one the Notebook is saved too)"
   ]
  },
  {
   "cell_type": "markdown",
   "metadata": {},
   "source": [
    "![Title](./Test_picture.jpg)"
   ]
  },
  {
   "cell_type": "code",
   "execution_count": null,
   "metadata": {},
   "outputs": [],
   "source": []
  }
 ],
 "metadata": {
  "kernelspec": {
   "display_name": "Python 3",
   "language": "python",
   "name": "python3"
  },
  "language_info": {
   "codemirror_mode": {
    "name": "ipython",
    "version": 3
   },
   "file_extension": ".py",
   "mimetype": "text/x-python",
   "name": "python",
   "nbconvert_exporter": "python",
   "pygments_lexer": "ipython3",
   "version": "3.7.3"
  }
 },
 "nbformat": 4,
 "nbformat_minor": 2
}
